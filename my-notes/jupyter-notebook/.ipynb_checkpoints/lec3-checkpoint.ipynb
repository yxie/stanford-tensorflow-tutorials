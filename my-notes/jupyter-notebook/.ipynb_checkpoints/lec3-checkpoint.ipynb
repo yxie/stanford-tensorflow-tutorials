{
 "cells": [
  {
   "cell_type": "markdown",
   "metadata": {},
   "source": [
    "# Basic models in tensorflow"
   ]
  },
  {
   "cell_type": "markdown",
   "metadata": {},
   "source": [
    "### Phase 1: assemble our graph\n",
    "\n",
    "Ｓtep 1： read in data\n",
    "\n",
    "Ｓtep 2： create placeholders for inputs and labels\n",
    "\n",
    "`tf.placeholder（dtype, shape=Ｎone, name=Ｎone）`\n",
    "\n",
    "Ｓtep 3： create weight and bias\n",
    "\n",
    "`tf.get_variable（name, shape=Ｎone, dtype=Ｎone, initializer=Ｎone,...)`\n",
    "\n",
    "Step 4: inference\n",
    "\n",
    "`Y_predicted = w * X + b`\n",
    "\n",
    "Step 5: specify loss function\n",
    "\n",
    "`loss = tf.square(Y - Y_predicted, name='loss')`\n",
    "\n",
    "Step 6: create optimizer\n",
    "\n",
    "`optimizer =tf.train.GradientDescentOptimizer(learning_rate=0.001).minimize(loss)`"
   ]
  },
  {
   "cell_type": "markdown",
   "metadata": {},
   "source": [
    "### Phase 2: Train our model\n",
    "Step 1: initialize variables\n",
    "\n",
    "`sess.run(tf.global_variables_initializer())`\n",
    "\n",
    "Step 2: run optimizer\n",
    "\n",
    "`_, loss_ = sess.run([optimizer, loss], feed_dict={X: x, Y: y})`\n",
    "\n"
   ]
  },
  {
   "cell_type": "markdown",
   "metadata": {},
   "source": [
    "### write log files using a FileWriter\n",
    "\n",
    "`writer = tf.summary.FileWriter('./graphs/linear_reg', tf.get_default_graph())`\n",
    "\n",
    "In terminal\n",
    "```\n",
    "$ python <filename>.py\n",
    "$ tensorboard --logdir='./graphs/linear_reg'\n",
    "```"
   ]
  },
  {
   "cell_type": "markdown",
   "metadata": {},
   "source": [
    "### TF control flow\n",
    "E.g.: `tf.cond(pred, fn1, fn2, name=None)`\n",
    "```\n",
    "def huber_loss(labels, predictions, delta=14.0):\n",
    "    residual = tf.abs(labels - predictions)\n",
    "    def f1(): return 0.5 * tf.square(residual)\n",
    "    def f2(): return delta * residual - 0.5 * tf.square(delta)\n",
    "    return tf.cond(residual < delta, f1, f2)\n",
    "```"
   ]
  },
  {
   "cell_type": "code",
   "execution_count": null,
   "metadata": {},
   "outputs": [],
   "source": []
  }
 ],
 "metadata": {
  "kernelspec": {
   "display_name": "Python [conda env:tensorflow]",
   "language": "python",
   "name": "conda-env-tensorflow-py"
  },
  "language_info": {
   "codemirror_mode": {
    "name": "ipython",
    "version": 2
   },
   "file_extension": ".py",
   "mimetype": "text/x-python",
   "name": "python",
   "nbconvert_exporter": "python",
   "pygments_lexer": "ipython2",
   "version": "2.7.14"
  }
 },
 "nbformat": 4,
 "nbformat_minor": 2
}
