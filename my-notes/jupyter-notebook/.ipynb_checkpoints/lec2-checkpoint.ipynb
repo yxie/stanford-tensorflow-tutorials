{
 "cells": [
  {
   "cell_type": "markdown",
   "metadata": {},
   "source": [
    "# Tensorflow Ops"
   ]
  },
  {
   "cell_type": "markdown",
   "metadata": {},
   "source": [
    "## Visualize with TensorBoard\n",
    "Go to terminal, run:\n",
    "```\n",
    "$ python3 [yourprogram].py\n",
    "$ tensorboard --logdir=\"./graphs\" --port 6006\n",
    "```\n",
    "Then open your browser and go to: http://localhost:6006/\n",
    "\n",
    "Explicitly name the variables"
   ]
  },
  {
   "cell_type": "code",
   "execution_count": 1,
   "metadata": {},
   "outputs": [
    {
     "name": "stdout",
     "output_type": "stream",
     "text": [
      "5\n"
     ]
    }
   ],
   "source": [
    "import tensorflow as tf\n",
    "\n",
    "a = tf.constant(2, name='a')\n",
    "b = tf.constant(3, name='b')\n",
    "x = tf.add(a, b, name='add')\n",
    "writer = tf.summary.FileWriter('./graphs', tf.get_default_graph())\n",
    "with tf.Session() as sess:\n",
    "    print(sess.run(x))\n",
    "writer.close()"
   ]
  },
  {
   "cell_type": "markdown",
   "metadata": {},
   "source": [
    "## Constants, Sequences, Variables, Ops"
   ]
  },
  {
   "cell_type": "markdown",
   "metadata": {},
   "source": [
    "### constants \n",
    "```\n",
    "tf.constant(\n",
    "    value,\n",
    "    dtype=None,\n",
    "    shape=None,\n",
    "    name='Const',\n",
    "    verify_shape=False\n",
    ")\n",
    "a = tf.cosntant([2,2], name='a')\n",
    "```\n",
    "specific values\n",
    "```\n",
    "tf.zeros(shape, dtype=tf.float32, name=None)\n",
    "tf.zeros([2,3], tf.int32)\n",
    "tf.zeros_like(input_tensor) # creates a tensor of same shape/type but with all zeros\n",
    "\n",
    "tf.ones(shape, dtype=tf.float32, name=None)\n",
    "tf.ones_like(input_tensor, dtype=None, name=None, optimize=True)\n",
    "\n",
    "tf.fill(dims, value, name=None) # creates a tensor filled with a scalar value\n",
    "```\n",
    "Constants as sequences\n",
    "```\n",
    "tf.lin_space(start, stop, num, name=None)\n",
    "tf.range(start, limit=None, delta=1, dtype=None, name='range) # not iterable\n",
    "```\n",
    "Random constants\n",
    "```\n",
    "tf.set_random_seed(seed)\n",
    "tf.random_normal\n",
    "tf.truncated_normal\n",
    "tf.random_uniform\n",
    "tf.random_shuffle\n",
    "tf.random_crop\n",
    "tf.multinomial\n",
    "tf.random_gamma\n",
    "```"
   ]
  },
  {
   "cell_type": "markdown",
   "metadata": {},
   "source": [
    "### Operations\n",
    "Similar to numpy\n",
    "\n",
    "Wizard of Div\n",
    "```\n",
    "a = tf.constant([2, 2], name='a')\n",
    "b = tf.constant([[0, 1], [2, 3]], name='b')\n",
    "with tf.Session() as sess:\n",
    "\tprint(sess.run(tf.div(b, a)))             ⇒ [[0 0] [1 1]]\n",
    "\tprint(sess.run(tf.divide(b, a)))          ⇒ [[0. 0.5] [1. 1.5]]\n",
    "\tprint(sess.run(tf.truediv(b, a)))         ⇒ [[0. 0.5] [1. 1.5]]\n",
    "\tprint(sess.run(tf.floordiv(b, a)))        ⇒ [[0 0] [1 1]]\n",
    "\tprint(sess.run(tf.realdiv(b, a)))         ⇒ # Error: only works for real values\n",
    "\tprint(sess.run(tf.truncatediv(b, a)))     ⇒ [[0 0] [1 1]]\n",
    "\tprint(sess.run(tf.floor_div(b, a)))       ⇒ [[0 0] [1 1]]\n",
    "\n",
    "```"
   ]
  },
  {
   "cell_type": "markdown",
   "metadata": {},
   "source": [
    "### Data Types\n",
    "Boolean, numeric(int,float), strings\n",
    "\n",
    "Use TF DType when possible\n",
    "* Python native types: TensorFlow has to infer Python type\n",
    "* NumPy arrays: NumPy is not GPU compatible"
   ]
  },
  {
   "cell_type": "markdown",
   "metadata": {},
   "source": [
    "### What's wrong with constants?\n",
    "* constants are stored in the graph definition\n",
    "* This makes loading graphs expensive when constants are big\n",
    "\n",
    "Only use constants for primitive types\n",
    "\n",
    "Use variables or readers for more data that requires mroe memory"
   ]
  },
  {
   "cell_type": "markdown",
   "metadata": {},
   "source": [
    "### Variables"
   ]
  },
  {
   "cell_type": "code",
   "execution_count": 2,
   "metadata": {},
   "outputs": [],
   "source": [
    "# With tf.Variable:\n",
    "s1 = tf.Variable(2, name=\"scalar\")\n",
    "m1 = tf.Variable([[0,1], [2,3]], name=\"matrix\")\n",
    "W1 = tf.Variable(tf.zeros([784,10]))\n",
    "\n",
    "# With tf.get_variable (better)\n",
    "s = tf.get_variable(\"scalar\", initializer=tf.constant(2))\n",
    "m = tf.get_variable(\"matrix\", initializer=tf.constant([[0,1],[2,3]]))\n",
    "W = tf.get_variable(\"big_matrix\", shape=(784,10), initializer=tf.zeros_initializer())"
   ]
  },
  {
   "cell_type": "markdown",
   "metadata": {},
   "source": [
    "tf.Variable holds serveral ops:\n",
    "```\n",
    "x = tf.Variable(...)\n",
    "\n",
    "x.initializer # init op\n",
    "x.value() # read op\n",
    "x.assign(...) # write op\n",
    "x.assign_add(...) # and more\n",
    "```"
   ]
  }
 ],
 "metadata": {
  "kernelspec": {
   "display_name": "Python [conda env:tensorflow]",
   "language": "python",
   "name": "conda-env-tensorflow-py"
  },
  "language_info": {
   "codemirror_mode": {
    "name": "ipython",
    "version": 2
   },
   "file_extension": ".py",
   "mimetype": "text/x-python",
   "name": "python",
   "nbconvert_exporter": "python",
   "pygments_lexer": "ipython2",
   "version": "2.7.14"
  }
 },
 "nbformat": 4,
 "nbformat_minor": 2
}
