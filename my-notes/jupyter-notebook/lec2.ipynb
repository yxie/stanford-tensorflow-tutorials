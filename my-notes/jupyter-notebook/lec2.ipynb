{
 "cells": [
  {
   "cell_type": "markdown",
   "metadata": {},
   "source": [
    "# Tensorflow Ops"
   ]
  },
  {
   "cell_type": "markdown",
   "metadata": {},
   "source": [
    "## Visualize with TensorBoard\n",
    "Go to terminal, run:\n",
    "```\n",
    "$ python3 [yourprogram].py\n",
    "$ tensorboard --logdir=\"./graphs\" --port 6006\n",
    "```\n",
    "Then open your browser and go to: http://localhost:6006/\n",
    "\n",
    "Explicitly name the variables"
   ]
  },
  {
   "cell_type": "code",
   "execution_count": 1,
   "metadata": {},
   "outputs": [
    {
     "name": "stdout",
     "output_type": "stream",
     "text": [
      "5\n"
     ]
    }
   ],
   "source": [
    "import tensorflow as tf\n",
    "\n",
    "a = tf.constant(2, name='a')\n",
    "b = tf.constant(3, name='b')\n",
    "x = tf.add(a, b, name='add')\n",
    "writer = tf.summary.FileWriter('./graphs', tf.get_default_graph())\n",
    "with tf.Session() as sess:\n",
    "    print(sess.run(x))\n",
    "writer.close()"
   ]
  },
  {
   "cell_type": "markdown",
   "metadata": {},
   "source": [
    "## Constants, Sequences, Variables, Ops"
   ]
  },
  {
   "cell_type": "markdown",
   "metadata": {},
   "source": [
    "### constants \n",
    "```\n",
    "tf.constant(\n",
    "    value,\n",
    "    dtype=None,\n",
    "    shape=None,\n",
    "    name='Const',\n",
    "    verify_shape=False\n",
    ")\n",
    "a = tf.cosntant([2,2], name='a')\n",
    "```\n",
    "specific values\n",
    "```\n",
    "tf.zeros(shape, dtype=tf.float32, name=None)\n",
    "tf.zeros([2,3], tf.int32)\n",
    "tf.zeros_like(input_tensor) # creates a tensor of same shape/type but with all zeros\n",
    "\n",
    "tf.ones(shape, dtype=tf.float32, name=None)\n",
    "tf.ones_like(input_tensor, dtype=None, name=None, optimize=True)\n",
    "\n",
    "tf.fill(dims, value, name=None) # creates a tensor filled with a scalar value\n",
    "```\n",
    "Constants as sequences\n",
    "```\n",
    "tf.lin_space(start, stop, num, name=None)\n",
    "tf.range(start, limit=None, delta=1, dtype=None, name='range) # not iterable\n",
    "```\n",
    "Random constants\n",
    "```\n",
    "tf.set_random_seed(seed)\n",
    "tf.random_normal\n",
    "tf.truncated_normal\n",
    "tf.random_uniform\n",
    "tf.random_shuffle\n",
    "tf.random_crop\n",
    "tf.multinomial\n",
    "tf.random_gamma\n",
    "```"
   ]
  },
  {
   "cell_type": "markdown",
   "metadata": {},
   "source": [
    "### Operations\n",
    "Similar to numpy\n",
    "\n",
    "Wizard of Div\n",
    "```\n",
    "a = tf.constant([2, 2], name='a')\n",
    "b = tf.constant([[0, 1], [2, 3]], name='b')\n",
    "with tf.Session() as sess:\n",
    "\tprint(sess.run(tf.div(b, a)))             ⇒ [[0 0] [1 1]]\n",
    "\tprint(sess.run(tf.divide(b, a)))          ⇒ [[0. 0.5] [1. 1.5]]\n",
    "\tprint(sess.run(tf.truediv(b, a)))         ⇒ [[0. 0.5] [1. 1.5]]\n",
    "\tprint(sess.run(tf.floordiv(b, a)))        ⇒ [[0 0] [1 1]]\n",
    "\tprint(sess.run(tf.realdiv(b, a)))         ⇒ # Error: only works for real values\n",
    "\tprint(sess.run(tf.truncatediv(b, a)))     ⇒ [[0 0] [1 1]]\n",
    "\tprint(sess.run(tf.floor_div(b, a)))       ⇒ [[0 0] [1 1]]\n",
    "\n",
    "```"
   ]
  },
  {
   "cell_type": "markdown",
   "metadata": {},
   "source": [
    "### Data Types\n",
    "Boolean, numeric(int,float), strings\n",
    "\n",
    "Use TF DType when possible\n",
    "* Python native types: TensorFlow has to infer Python type\n",
    "* NumPy arrays: NumPy is not GPU compatible"
   ]
  },
  {
   "cell_type": "markdown",
   "metadata": {},
   "source": [
    "### What's wrong with constants?\n",
    "* constants are stored in the graph definition\n",
    "* This makes loading graphs expensive when constants are big\n",
    "\n",
    "Only use constants for primitive types\n",
    "\n",
    "Use variables or readers for more data that requires mroe memory"
   ]
  },
  {
   "cell_type": "markdown",
   "metadata": {},
   "source": [
    "### Variables\n",
    "Definition:"
   ]
  },
  {
   "cell_type": "code",
   "execution_count": 2,
   "metadata": {},
   "outputs": [],
   "source": [
    "# With tf.Variable:\n",
    "s1 = tf.Variable(2, name=\"scalar\")\n",
    "m1 = tf.Variable([[0,1], [2,3]], name=\"matrix\")\n",
    "W1 = tf.Variable(tf.zeros([784,10]))\n",
    "\n",
    "# With tf.get_variable (better)\n",
    "s = tf.get_variable(\"scalar\", initializer=tf.constant(2))\n",
    "m = tf.get_variable(\"matrix\", initializer=tf.constant([[0,1],[2,3]]))\n",
    "W = tf.get_variable(\"big_matrix\", shape=(784,10), initializer=tf.zeros_initializer())"
   ]
  },
  {
   "cell_type": "markdown",
   "metadata": {},
   "source": [
    "tf.Variable holds serveral ops:\n",
    "```\n",
    "x = tf.Variable(...)\n",
    "\n",
    "x.initializer # init op\n",
    "x.value() # read op\n",
    "x.assign(...) # write op\n",
    "x.assign_add(...) # and more\n",
    "```"
   ]
  },
  {
   "cell_type": "markdown",
   "metadata": {},
   "source": [
    "Initialize your variables:"
   ]
  },
  {
   "cell_type": "code",
   "execution_count": 3,
   "metadata": {},
   "outputs": [],
   "source": [
    "# initialize all variables\n",
    "with tf.Session() as sess:\n",
    "    sess.run(tf.global_variables_initializer())\n",
    "\n",
    "# initialize subset of variables:\n",
    "with tf.Session() as sess:\n",
    "    sess.run(tf.variables_initializer([s,m]))\n",
    "    \n",
    "# initialize a single variable:\n",
    "with tf.Session() as sess:\n",
    "    sess.run(W.initializer)"
   ]
  },
  {
   "cell_type": "markdown",
   "metadata": {},
   "source": [
    "eval() a variable:"
   ]
  },
  {
   "cell_type": "code",
   "execution_count": 4,
   "metadata": {},
   "outputs": [
    {
     "name": "stdout",
     "output_type": "stream",
     "text": [
      "<tf.Variable 'big_matrix:0' shape=(784, 10) dtype=float32_ref>\n",
      "[[0. 0. 0. ... 0. 0. 0.]\n",
      " [0. 0. 0. ... 0. 0. 0.]\n",
      " [0. 0. 0. ... 0. 0. 0.]\n",
      " ...\n",
      " [0. 0. 0. ... 0. 0. 0.]\n",
      " [0. 0. 0. ... 0. 0. 0.]\n",
      " [0. 0. 0. ... 0. 0. 0.]]\n"
     ]
    }
   ],
   "source": [
    "with tf.Session() as sess:\n",
    "    sess.run(W.initializer)\n",
    "    print(W)\n",
    "    print(W.eval())"
   ]
  },
  {
   "cell_type": "markdown",
   "metadata": {},
   "source": [
    "assign() a variable:"
   ]
  },
  {
   "cell_type": "code",
   "execution_count": 5,
   "metadata": {},
   "outputs": [
    {
     "name": "stdout",
     "output_type": "stream",
     "text": [
      "100\n",
      "\n",
      "\n",
      "2\n",
      "4\n",
      "8\n",
      "\n",
      "\n",
      "20\n",
      "18\n",
      "\n",
      "\n",
      "20\n",
      "8\n",
      "\n",
      "\n"
     ]
    }
   ],
   "source": [
    "# assign()\n",
    "W = tf.Variable(10)\n",
    "assign_op = W.assign(100)\n",
    "with tf.Session() as sess:\n",
    "    sess.run(W.initializer)\n",
    "    sess.run(assign_op)\n",
    "    print(W.eval())\n",
    "print(\"\\n\")\n",
    "\n",
    "# assign() runs every time\n",
    "my_var = tf.Variable(2, name=\"my_var\")\n",
    "my_var_times_two = my_var.assign(2 * my_var)\n",
    "with tf.Session() as sess:\n",
    "    sess.run(my_var.initializer)\n",
    "    print(my_var.eval())\n",
    "    sess.run(my_var_times_two)\n",
    "    print(my_var.eval())\n",
    "    sess.run(my_var_times_two)\n",
    "    print(my_var.eval())\n",
    "print(\"\\n\")\n",
    "\n",
    "# assign_add(), assign_sub()\n",
    "my_var = tf.Variable(10)\n",
    "with tf.Session() as sess:\n",
    "    sess.run(my_var.initializer)\n",
    "    sess.run(my_var.assign_add(10))\n",
    "    print(my_var.eval())\n",
    "    sess.run(my_var.assign_sub(2))\n",
    "    print(my_var.eval())\n",
    "print(\"\\n\")\n",
    "    \n",
    "# each session maintain its copy of variables\n",
    "W = tf.Variable(10)\n",
    "sess1 = tf.Session()\n",
    "sess2 = tf.Session()\n",
    "sess1.run(W.initializer)\n",
    "sess2.run(W.initializer)\n",
    "print(sess1.run(W.assign_add(10)))\n",
    "print(sess2.run(W.assign_sub(2)))\n",
    "print(\"\\n\")\n",
    "sess1.close()\n",
    "sess2.close()"
   ]
  },
  {
   "cell_type": "markdown",
   "metadata": {},
   "source": [
    "### Control dependencies\n",
    "tf.Graph.control_dependencies(control_inputs)\n",
    "```\n",
    "# defines which ops should be run first\n",
    "# your graph g have 5 ops: a, b, c, d, e\n",
    "g = tf.get_default_graph()\n",
    "with g.control_dependencies([a, b, c]):\n",
    "\t# 'd' and 'e' will only run after 'a', 'b', and 'c' have executed.\n",
    "\td = ...\n",
    "\te = …\n",
    "\n",
    "\n",
    "```"
   ]
  },
  {
   "cell_type": "markdown",
   "metadata": {},
   "source": [
    "# Placeholder"
   ]
  },
  {
   "cell_type": "markdown",
   "metadata": {},
   "source": [
    "**tf.placeholder(dtype, shape=None, name=None)**\n",
    "* use `tf.Variable` for trainable variables such as weights and bias\n",
    "* use `tf.placeholder` for actual traininig examples"
   ]
  },
  {
   "cell_type": "code",
   "execution_count": 6,
   "metadata": {},
   "outputs": [
    {
     "name": "stdout",
     "output_type": "stream",
     "text": [
      "[6. 7. 8.]\n"
     ]
    }
   ],
   "source": [
    "a = tf.placeholder(tf.float32, shape=[3])\n",
    "b = tf.constant([5,5,5], tf.float32)\n",
    "c = a + b\n",
    "with tf.Session() as sess:\n",
    "    print(sess.run(c, feed_dict={a:[1,2,3]})) # tensor a is the key, not string 'a'"
   ]
  },
  {
   "cell_type": "markdown",
   "metadata": {},
   "source": [
    "**What if want to feed multiple data points in?**\n",
    "\n",
    "Have to do it one at a time\n",
    "```\n",
    "with tf.Session as sess:\n",
    "    for a_value in list_of_values_for_a:\n",
    "        print(sess.run(c, {a: a_value}))\n",
    "```"
   ]
  },
  {
   "cell_type": "markdown",
   "metadata": {},
   "source": [
    "**You can `feed_dict` any feedable tensor**\n",
    "```\n",
    "tf.Graph.is_feedable(tensor)\n",
    "```"
   ]
  },
  {
   "cell_type": "code",
   "execution_count": 7,
   "metadata": {},
   "outputs": [
    {
     "name": "stdout",
     "output_type": "stream",
     "text": [
      "45\n"
     ]
    }
   ],
   "source": [
    "# feeding values to TF ops\n",
    "# extremely helpful for testing\n",
    "a = tf.add(2,5)\n",
    "b = tf.multiply(a,3)\n",
    "with tf.Session() as sess:\n",
    "    print(sess.run(b, feed_dict={a:15}))"
   ]
  },
  {
   "cell_type": "markdown",
   "metadata": {},
   "source": [
    "# Lazy loading (bad idea)\n",
    "\n",
    "Normal loading:\n",
    "```\n",
    "x = tf.Variable(10, name='x')\n",
    "y = tf.Variable(20, name='y')\n",
    "z = tf.add(x, y) \t\t# create the node before executing the graph\n",
    "\n",
    "writer = tf.summary.FileWriter('./graphs/normal_loading', tf.get_default_graph())\n",
    "with tf.Session() as sess:\n",
    "\tsess.run(tf.global_variables_initializer())\n",
    "\tfor _ in range(10):\n",
    "\t\tsess.run(z)\n",
    "writer.close()\n",
    "```\n",
    "\n",
    "Lazy loading:\n",
    "```\n",
    "x = tf.Variable(10, name='x')\n",
    "y = tf.Variable(20, name='y')\n",
    "\n",
    "writer = tf.summary.FileWriter('./graphs/normal_loading', tf.get_default_graph())\n",
    "with tf.Session() as sess:\n",
    "\tsess.run(tf.global_variables_initializer())\n",
    "\tfor _ in range(10):\n",
    "\t\tsess.run(tf.add(x, y)) # someone decides to be clever to save one line of code\n",
    "writer.close()\n",
    "\n",
    "\n",
    "```"
   ]
  },
  {
   "cell_type": "markdown",
   "metadata": {},
   "source": [
    "With lazy loading, tf.add(x,y) added 10 times to the graph defintiion\n",
    "\n",
    "Solution: \n",
    "* Separate definition of ops from computing/running ops \n",
    "* Use Python property to ensure function is also loaded once the first time it is called"
   ]
  },
  {
   "cell_type": "code",
   "execution_count": null,
   "metadata": {},
   "outputs": [],
   "source": []
  }
 ],
 "metadata": {
  "kernelspec": {
   "display_name": "Python [conda env:tensorflow]",
   "language": "python",
   "name": "conda-env-tensorflow-py"
  },
  "language_info": {
   "codemirror_mode": {
    "name": "ipython",
    "version": 2
   },
   "file_extension": ".py",
   "mimetype": "text/x-python",
   "name": "python",
   "nbconvert_exporter": "python",
   "pygments_lexer": "ipython2",
   "version": "2.7.14"
  }
 },
 "nbformat": 4,
 "nbformat_minor": 2
}
